{
 "cells": [
  {
   "cell_type": "code",
   "execution_count": null,
   "metadata": {
    "colab": {
     "base_uri": "https://localhost:8080/"
    },
    "id": "mpL7H9tukO3Q",
    "outputId": "14bfe218-c7ed-48b4-de21-2c8ba9610c95"
   },
   "outputs": [],
   "source": [
    "# Downloading Dataset\n",
    "!wget https://raw.githubusercontent.com/susanli2016/Machine-Learning-with-Python/master/movielens_data/ratings.csv"
   ]
  },
  {
   "cell_type": "code",
   "execution_count": null,
   "metadata": {
    "colab": {
     "base_uri": "https://localhost:8080/"
    },
    "id": "jNZPXa3Kkzd5",
    "outputId": "6b269fcf-2e71-4727-e998-e12b1bb0df35"
   },
   "outputs": [],
   "source": [
    "# Downloading the Movies Dataset\n",
    "!wget https://raw.githubusercontent.com/susanli2016/Machine-Learning-with-Python/master/movielens_data/movies.csv"
   ]
  },
  {
   "cell_type": "code",
   "execution_count": null,
   "metadata": {
    "colab": {
     "base_uri": "https://localhost:8080/"
    },
    "id": "qMyOsPZKk6Mt",
    "outputId": "5a8dea91-9e84-4391-f9db-51dd60917851"
   },
   "outputs": [],
   "source": [
    "#instalação do scikit-surprise Package\n",
    "!pip install scikit-surprise"
   ]
  },
  {
   "cell_type": "code",
   "execution_count": null,
   "metadata": {
    "id": "_LYidMORk7q9"
   },
   "outputs": [],
   "source": [
    "#importação das bibliotecas básicas\n",
    "import numpy as np\n",
    "import pandas as pd"
   ]
  },
  {
   "cell_type": "code",
   "execution_count": null,
   "metadata": {
    "colab": {
     "base_uri": "https://localhost:8080/"
    },
    "id": "1TVSPk3uk733",
    "outputId": "d2745772-8ea6-44a1-d722-ee0542039707"
   },
   "outputs": [],
   "source": [
    "#Carregamento dos dados dos arquivos\n",
    "movies = pd.read_csv('movies.csv')\n",
    "\n",
    "movies.shape"
   ]
  },
  {
   "cell_type": "code",
   "execution_count": null,
   "metadata": {
    "colab": {
     "base_uri": "https://localhost:8080/"
    },
    "id": "PPMonUI4lgZN",
    "outputId": "aaf82a91-087f-4867-c600-dd7e51dc2859"
   },
   "outputs": [],
   "source": [
    "#Carregamento dos dados dos arquivos\n",
    "ratings = pd.read_csv('ratings.csv')\n",
    "\n",
    "ratings.shape"
   ]
  },
  {
   "cell_type": "code",
   "execution_count": null,
   "metadata": {
    "colab": {
     "base_uri": "https://localhost:8080/",
     "height": 203
    },
    "id": "-khEn7qrlgkm",
    "outputId": "15aae1c5-4253-4ece-f4ce-b5e2cb95578a"
   },
   "outputs": [],
   "source": [
    "movies.head()"
   ]
  },
  {
   "cell_type": "code",
   "execution_count": null,
   "metadata": {
    "colab": {
     "base_uri": "https://localhost:8080/",
     "height": 203
    },
    "id": "YYa-JTD6lgtV",
    "outputId": "b60a8c81-0844-4586-d7b2-1857fefb87bc"
   },
   "outputs": [],
   "source": [
    "ratings.head()"
   ]
  },
  {
   "cell_type": "code",
   "execution_count": null,
   "metadata": {
    "id": "iTpe-W1Ylg1c"
   },
   "outputs": [],
   "source": [
    "#Remoção da coluna timestamp\n",
    "ratings = ratings.drop(['timestamp'], axis = 1)"
   ]
  },
  {
   "cell_type": "code",
   "execution_count": null,
   "metadata": {
    "id": "grO2iCXZ1Wnc"
   },
   "outputs": [],
   "source": [
    "#criação de um novo arquivo CSV para os dados de avaliações devido ao fato de que a biblioteca Surprise apenas aceitará arquivo no formato CSV como Entrada\n",
    "#Não especificaremos cabeçalho (None)\n",
    "#Não utilizaremos indices\n",
    "ratings.to_csv(\"ratings_modified.csv\", header = None, index = False)"
   ]
  },
  {
   "cell_type": "code",
   "execution_count": null,
   "metadata": {
    "colab": {
     "base_uri": "https://localhost:8080/",
     "height": 203
    },
    "id": "mCPGkssW1Wz7",
    "outputId": "f31abd80-8fe4-49be-9850-490481f612e1"
   },
   "outputs": [],
   "source": [
    "#Após as modificações, verifiquemos o formato carregado dos dados\n",
    "x = pd.read_csv('ratings_modified.csv')\n",
    "x.head()"
   ]
  },
  {
   "cell_type": "code",
   "execution_count": null,
   "metadata": {
    "id": "BEKf74a1lg8e"
   },
   "outputs": [],
   "source": [
    "#Vamos importar o dataset para o leitor do Surprise\n",
    "from surprise import Dataset, Reader\n",
    "\n",
    "#Primeiramente, precisamos especirficar o caminho do arquivo e os parâmetros de letura requeriso para o carregamento dos dados\n",
    "file_path = 'ratings_modified.csv'\n",
    "reader = Reader(line_format='user item rating', sep=',', rating_scale = (1,5))\n",
    "\n",
    "#Carregamento do Dataset:\n",
    "data = Dataset.load_from_file(file_path, reader=reader)"
   ]
  },
  {
   "cell_type": "code",
   "execution_count": null,
   "metadata": {
    "colab": {
     "base_uri": "https://localhost:8080/"
    },
    "id": "xYDC9l-f973f",
    "outputId": "76e62532-044b-468b-f3b9-dcc21cbcc669"
   },
   "outputs": [],
   "source": [
    "#Vamos construir um dataset de treinamento\n",
    "train = data.build_full_trainset()\n",
    "\n",
    "#Numero de usuários e itens\n",
    "print('Número de usuários na base de dados:', train.n_users)\n",
    "print('Número de itens na base de dados:', train.n_items)"
   ]
  },
  {
   "cell_type": "code",
   "execution_count": null,
   "metadata": {
    "id": "SZ_62jsY98CF"
   },
   "outputs": [],
   "source": [
    "#Construção do modelo\n",
    "\n",
    "from surprise import KNNWithMeans\n",
    "\n",
    "#Filtragem colaborativa baseada no usuário:\n",
    "my_sim_option = {'name':'pearson', 'user_based':True}\n",
    "\n",
    "#Modelo KNN como backend\n",
    "algo = KNNWithMeans(k = 15, min_k = 5, \n",
    "    sim_options = my_sim_option, verbose = True\n",
    "    )"
   ]
  },
  {
   "cell_type": "code",
   "execution_count": null,
   "metadata": {
    "colab": {
     "base_uri": "https://localhost:8080/"
    },
    "id": "UuSpx_O298Mu",
    "outputId": "ff0c664e-5d41-4bc7-cdb1-d888d1ccce68"
   },
   "outputs": [],
   "source": [
    "#Verifiquemos a acurácia do modelo\n",
    "from surprise.model_selection import  cross_validate\n",
    "\n",
    "#Validação cruzada\n",
    "results = cross_validate(algo = algo, \n",
    "                         data = data, \n",
    "                         measures=['RMSE'], \n",
    "                         cv = 5, \n",
    "                         return_train_measures=True)\n",
    "print(results['test_rmse'].mean())\n"
   ]
  },
  {
   "cell_type": "code",
   "execution_count": null,
   "metadata": {
    "colab": {
     "base_uri": "https://localhost:8080/"
    },
    "id": "4tKKJ2wnBG7j",
    "outputId": "84d96c37-0b8e-42a0-9df4-c8e134ed507b"
   },
   "outputs": [],
   "source": [
    "#Treinamento do modelo em nosso Dataset\n",
    "algo.fit(train)"
   ]
  },
  {
   "cell_type": "code",
   "execution_count": null,
   "metadata": {
    "colab": {
     "base_uri": "https://localhost:8080/"
    },
    "id": "iiN2owYkBHE7",
    "outputId": "0f617535-1a7c-496e-a9ce-2c93de6faa25"
   },
   "outputs": [],
   "source": [
    "#Criação de um dicionário para mapear o ID do Filme (MovieID) e os títulos dos filmes\n",
    "movie_id_to_title_map = {}\n",
    "\n",
    "for m_id , title in zip(movies['movieId'].values , movies['title'].values):\n",
    "    movie_id_to_title_map[str(m_id)] = title\n",
    "\n",
    "#Verificação do dicionário criado:\n",
    "movie_id_to_title_map"
   ]
  },
  {
   "cell_type": "code",
   "execution_count": null,
   "metadata": {
    "colab": {
     "base_uri": "https://localhost:8080/"
    },
    "id": "uTJ_tHkeBHOS",
    "outputId": "852c09b1-ef94-4bd7-f7f9-453683215d5e"
   },
   "outputs": [],
   "source": [
    "#Predição em tempo real\n",
    "\n",
    "#O quanto o usuário de user id 5 avaliaria o item de ID 105?\n",
    "val = algo.predict(uid = '1', iid = '31')\n",
    "print(movie_id_to_title_map[val[1]], val[3])"
   ]
  },
  {
   "cell_type": "code",
   "execution_count": null,
   "metadata": {
    "id": "3eWSuQblG0CL"
   },
   "outputs": [],
   "source": [
    "#Melhores previsões\n",
    "from collections import defaultdict\n",
    "\n",
    "def get_top_n(predictions, n=10):\n",
    "    top_n = defaultdict(list)\n",
    "    for uid, iid, true_r, est, _ in predictions:\n",
    "        top_n[uid].append((iid, est))\n",
    "\n",
    "    for uid, user_ratings in top_n.items():\n",
    "        user_ratings.sort(key=lambda x: x[1], reverse=True)\n",
    "        top_n[uid] = user_ratings[:n]\n",
    "\n",
    "    return top_n"
   ]
  },
  {
   "cell_type": "code",
   "execution_count": null,
   "metadata": {
    "id": "2lfy1MsiBHWS"
   },
   "outputs": [],
   "source": [
    "#Construindo um conjunto de testes interativo, pois previsões sobre os dados de treinamento é um erro\n",
    "testdata = train.build_anti_testset()\n",
    "predictions = algo.test(testdata)\n",
    "top_n = get_top_n(predictions, n = 10)"
   ]
  },
  {
   "cell_type": "code",
   "execution_count": null,
   "metadata": {
    "id": "uHfrfPFdIbgi"
   },
   "outputs": [],
   "source": [
    "#Vamos criar uma função de busca de todos os filmes assistidos pelos usuários:\n",
    "def PreviousMoviedUserWatched(user_df , user_id , item_map):\n",
    "    user_df = user_df[user_df.iloc[: , 0] == user_id]\n",
    "    for movie , rating in zip(user_df.iloc[:,1].values , user_df.iloc[:,2].values):\n",
    "        print(item_map[str(movie)] , rating)"
   ]
  },
  {
   "cell_type": "code",
   "execution_count": null,
   "metadata": {
    "id": "dzgcvXYVJS9A"
   },
   "outputs": [],
   "source": [
    "#Vamos criar uma função de previsão de filmes para usuários baseandos nos filmes assistidos anteriormente:\n",
    "def UserPredictions(user_id , top_n , item_map):\n",
    "  print(\"Predictions for User Id : \" , user_id)\n",
    "  user_ratings = top_n[user_id]\n",
    "  for item_id , rating in user_ratings :\n",
    "    print(item_map[item_id] , \" : \" , rating)"
   ]
  },
  {
   "cell_type": "code",
   "execution_count": null,
   "metadata": {
    "colab": {
     "base_uri": "https://localhost:8080/"
    },
    "id": "t7lA8fQ5LFwc",
    "outputId": "7147c924-6dc0-432e-decc-1e5dfb0162b7"
   },
   "outputs": [],
   "source": [
    "PreviousMovieUserWatched(ratings, 1, movie_id_to_title_map)"
   ]
  },
  {
   "cell_type": "code",
   "execution_count": null,
   "metadata": {
    "colab": {
     "base_uri": "https://localhost:8080/"
    },
    "id": "s36sfp2hLo2R",
    "outputId": "8d6af4b6-599f-4b90-e6fb-9055be3eddad"
   },
   "outputs": [],
   "source": [
    "UserPredictions('50' , top_n , movie_id_to_title_map)"
   ]
  }
 ],
 "metadata": {
  "colab": {
   "name": "User Based Collaborative Filtering.ipynb",
   "provenance": []
  },
  "kernelspec": {
   "display_name": "Python 3",
   "language": "python",
   "name": "python3"
  },
  "language_info": {
   "codemirror_mode": {
    "name": "ipython",
    "version": 3
   },
   "file_extension": ".py",
   "mimetype": "text/x-python",
   "name": "python",
   "nbconvert_exporter": "python",
   "pygments_lexer": "ipython3",
   "version": "3.8.8"
  }
 },
 "nbformat": 4,
 "nbformat_minor": 1
}
